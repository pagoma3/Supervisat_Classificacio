{
 "cells": [
  {
   "cell_type": "code",
   "execution_count": 1,
   "id": "a25b74df",
   "metadata": {
    "ExecuteTime": {
     "end_time": "2021-07-14T09:28:17.769951Z",
     "start_time": "2021-07-14T09:28:13.548719Z"
    }
   },
   "outputs": [],
   "source": [
    "# First, import libraries to be used and modify dataset as in S13 T01 P1\n",
    "\n",
    "import pandas as pd\n",
    "import matplotlib.pyplot as plt\n",
    "import numpy as np\n",
    "\n",
    "from sklearn.model_selection import train_test_split\n",
    "from sklearn.preprocessing import MinMaxScaler\n",
    "from sklearn.linear_model import LogisticRegression\n",
    "import sklearn.metrics as metrics\n",
    "from sklearn import svm\n",
    "\n",
    "import xgboost as xgb\n"
   ]
  },
  {
   "cell_type": "code",
   "execution_count": 2,
   "id": "c823394e",
   "metadata": {
    "ExecuteTime": {
     "end_time": "2021-07-14T09:28:27.658564Z",
     "start_time": "2021-07-14T09:28:17.774860Z"
    }
   },
   "outputs": [],
   "source": [
    "# Modify dataset as in S13 T01 P1; for more detailed information, check that same notebook\n",
    "\n",
    "dades = pd.read_csv(\"../Sprint 11/DelayedFlights.csv\")\n",
    "\n",
    "dades.drop(columns=[\"Unnamed: 0\", \"Year\", \"FlightNum\", \"TailNum\", \"Cancelled\", \"CancellationCode\"], inplace=True)\n",
    "\n",
    "dades[\"ArrDelay\"].fillna(dades[\"DepDelay\"], inplace = True)\n",
    "\n",
    "delay = dades[\"CRSElapsedTime\"] + dades[\"DepDelay\"]\n",
    "\n",
    "dades[\"ActualElapsedTime\"].fillna(delay, inplace = True)\n",
    "\n",
    "dades[\"TaxiIn\"].fillna(dades[\"TaxiIn\"].mean(), inplace=True)\n",
    "\n",
    "dades[\"TaxiOut\"].fillna(dades[\"TaxiOut\"].mean(), inplace=True)\n",
    "\n",
    "dades[\"is_delay\"] = dades[\"ArrDelay\"].apply(lambda x: 0 if x==0 else 1)\n",
    "\n",
    "scaler = MinMaxScaler()\n",
    "\n",
    "scaled_df = scaler.fit_transform(dades[[\"is_delay\", \"DepDelay\", \"Distance\", \"TaxiIn\", \"TaxiOut\"]])\n",
    "\n",
    "scaled_df = pd.DataFrame(scaled_df, columns = [\"is_delay\", \"DepDelay\", \"Distance\", \"TaxiIn\", \"TaxiOut\"])"
   ]
  },
  {
   "cell_type": "markdown",
   "id": "fba9d2fd",
   "metadata": {},
   "source": [
    "_________________________________________________________________________________________________________\n",
    "#########################################################################################################\n",
    "_________________________________________________________________________________________________________"
   ]
  },
  {
   "cell_type": "markdown",
   "id": "f7718f0f",
   "metadata": {},
   "source": [
    "### Exercise 3\n",
    "\n",
    "Train the algorithms using hyperparameter tuning."
   ]
  },
  {
   "cell_type": "code",
   "execution_count": 3,
   "id": "490f2207",
   "metadata": {
    "ExecuteTime": {
     "end_time": "2021-07-14T09:28:29.060805Z",
     "start_time": "2021-07-14T09:28:27.663919Z"
    }
   },
   "outputs": [],
   "source": [
    "# Logistic Regression\n",
    "\n",
    "y = scaled_df[\"is_delay\"]\n",
    "X = scaled_df[[\"DepDelay\", \"Distance\", \"TaxiIn\", \"TaxiOut\"]]\n",
    "\n",
    "X_train_log, X_test_log, y_train_log, y_test_log = train_test_split(X, y, random_state = 98, stratify= scaled_df[\"is_delay\"])"
   ]
  },
  {
   "cell_type": "code",
   "execution_count": 4,
   "id": "db4cab16",
   "metadata": {
    "ExecuteTime": {
     "end_time": "2021-07-14T09:28:33.713153Z",
     "start_time": "2021-07-14T09:28:29.069483Z"
    }
   },
   "outputs": [],
   "source": [
    "# We change class weight to balanced and max iterations to 200\n",
    "# Fit and predict\n",
    "\n",
    "logistic = LogisticRegression(class_weight=\"balanced\", max_iter=200)\n",
    "\n",
    "logistic.fit(X_train_log, y_train_log)\n",
    "\n",
    "y_pred_log = logistic.predict(X_test_log)"
   ]
  },
  {
   "cell_type": "code",
   "execution_count": 5,
   "id": "7bdaa43c",
   "metadata": {
    "ExecuteTime": {
     "end_time": "2021-07-14T09:28:35.172448Z",
     "start_time": "2021-07-14T09:28:33.717034Z"
    }
   },
   "outputs": [
    {
     "name": "stdout",
     "output_type": "stream",
     "text": [
      "0.6678741816229167\n",
      "[[  6135    625]\n",
      " [160187 317243]]\n",
      "0.7977965492180289\n",
      "0.8423236382928962\n"
     ]
    }
   ],
   "source": [
    "# Calculating performance scores: accuracy score, confusion matrix, F1 score and AUC score\n",
    "\n",
    "print(metrics.accuracy_score(y_test_log, y_pred_log))\n",
    "\n",
    "print(metrics.confusion_matrix(y_test_log, y_pred_log))\n",
    "\n",
    "print(metrics.f1_score(y_test_log, y_pred_log))\n",
    "\n",
    "y_pred_prob_log = logistic.predict_proba(X_test_log)[:, 1]\n",
    "\n",
    "print(metrics.roc_auc_score(y_test_log, y_pred_prob_log))\n",
    "\n",
    "# Even if the indicators are quite bad in comparison with the models before modifications, we can see that after\n",
    "# balancing class weights we predict the big majority of target class instances. However, in the process we also\n",
    "# misclasify around a third of the majority class instances. In absolute numbers, that represents a very large \n",
    "# amount."
   ]
  },
  {
   "cell_type": "code",
   "execution_count": 6,
   "id": "7ce7ef46",
   "metadata": {
    "ExecuteTime": {
     "end_time": "2021-07-14T09:28:35.594700Z",
     "start_time": "2021-07-14T09:28:35.176186Z"
    }
   },
   "outputs": [
    {
     "data": {
      "text/plain": [
       "[<matplotlib.lines.Line2D at 0x7fa0f5b315e0>]"
      ]
     },
     "execution_count": 6,
     "metadata": {},
     "output_type": "execute_result"
    },
    {
     "data": {
      "image/png": "[encoded data removed]",
      "text/plain": [
       "<Figure size 432x288 with 1 Axes>"
      ]
     },
     "metadata": {
      "needs_background": "light"
     },
     "output_type": "display_data"
    }
   ],
   "source": [
    "# ROC curve: as specificity augments, sensibility descends\n",
    "\n",
    "# We want to maximise Specificity: when the actual value is negative (no delay), how often is the prediction \n",
    "# correct?\n",
    "\n",
    "fpr, tpr, thresholds = metrics.roc_curve(y_test_log, y_pred_prob_log)\n",
    "\n",
    "plt.plot(fpr, tpr)"
   ]
  },
  {
   "cell_type": "code",
   "execution_count": 7,
   "id": "3a1ac30d",
   "metadata": {
    "ExecuteTime": {
     "end_time": "2021-07-14T09:28:36.082610Z",
     "start_time": "2021-07-14T09:28:35.599540Z"
    }
   },
   "outputs": [
    {
     "name": "stderr",
     "output_type": "stream",
     "text": [
      "/Users/pau/opt/anaconda3/lib/python3.8/site-packages/sklearn/utils/validation.py:70: FutureWarning: Pass threshold=0.55 as keyword args. From version 1.0 (renaming of 0.25) passing these as positional arguments will result in an error\n",
      "  warnings.warn(f\"Pass {args_msg} as keyword args. From version \"\n"
     ]
    },
    {
     "name": "stdout",
     "output_type": "stream",
     "text": [
      "[[  6331    429]\n",
      " [179352 298078]]\n"
     ]
    }
   ],
   "source": [
    "# We will now change threshold levels to further improve prediction power:\n",
    "\n",
    "from sklearn.preprocessing import binarize\n",
    "\n",
    "# Transform into 2D arrays to be able to analyse:\n",
    "\n",
    "y_pred_prob_log = y_pred_prob_log.reshape(-1, 1)\n",
    "\n",
    "y_test_log = np.array(y_test_log).reshape(-1, 1)\n",
    "\n",
    "# Change threshold:\n",
    "\n",
    "y_pred_class = binarize(y_pred_prob_log, 0.55)\n",
    "\n",
    "# What we are doing here is taking the (now 2-D array of) prediction coefficients for 1 (delayed flight); by using\n",
    "# binarize we modify the probability threshold (0.55 instead of the logistic regression 0.5) that classifies \n",
    "# instances into whether they are expected to be predicted delays or non-delays\n",
    "\n",
    "print(metrics.confusion_matrix(y_test_log, y_pred_class))\n",
    "\n",
    "# As we see and we could logically deduct, given the very small amount of not delayed flights, a small increase \n",
    "# in the threshold level to detect a couple hundred more delay cases has an enormous impact (20k misclassified\n",
    "# delayed flights more than pre-modification) on how well we detect the majority variable\n"
   ]
  },
  {
   "cell_type": "code",
   "execution_count": 8,
   "id": "10a00542",
   "metadata": {
    "ExecuteTime": {
     "end_time": "2021-07-14T09:28:36.094364Z",
     "start_time": "2021-07-14T09:28:36.088606Z"
    }
   },
   "outputs": [],
   "source": [
    "####################################################################################################\n",
    "#------------------------------------ IMPORTANT ---------------------------------------------------#\n",
    "####################################################################################################\n",
    "\n",
    "# In the end, the tradeoff between specificity and sensibility has a lot to do with the business incentives of \n",
    "# each case. If this were a real situation, how costly is it to misclassify flights as delayed? What about the\n",
    "# other way around? \n",
    "\n",
    "# By tuning our models data scientists have a lot of power in predicting future outcomes and, as a consequence, \n",
    "# business decisions"
   ]
  },
  {
   "cell_type": "markdown",
   "id": "85d9d279",
   "metadata": {},
   "source": [
    "_________________________________________________________________________________________________________\n",
    "#########################################################################################################\n",
    "_________________________________________________________________________________________________________"
   ]
  },
  {
   "cell_type": "code",
   "execution_count": 9,
   "id": "8f4c69da",
   "metadata": {
    "ExecuteTime": {
     "end_time": "2021-07-14T09:28:36.592922Z",
     "start_time": "2021-07-14T09:28:36.107045Z"
    }
   },
   "outputs": [],
   "source": [
    "# Support Vector Machine\n",
    "\n",
    "# Resampling and reducing sample size\n",
    "\n",
    "X_train_svm, X_test_svm, y_train_svm, y_test_svm = train_test_split(X, y, train_size=75000, test_size=25000, random_state = 13, stratify= scaled_df[\"is_delay\"])"
   ]
  },
  {
   "cell_type": "code",
   "execution_count": 10,
   "id": "96c77f64",
   "metadata": {
    "ExecuteTime": {
     "end_time": "2021-07-14T09:29:12.409858Z",
     "start_time": "2021-07-14T09:28:36.595898Z"
    }
   },
   "outputs": [
    {
     "name": "stderr",
     "output_type": "stream",
     "text": [
      "/Users/pau/opt/anaconda3/lib/python3.8/site-packages/sklearn/svm/_base.py:255: ConvergenceWarning: Solver terminated early (max_iter=800).  Consider pre-processing your data with StandardScaler or MinMaxScaler.\n",
      "  warnings.warn('Solver terminated early (max_iter=%i).'\n"
     ]
    },
    {
     "data": {
      "text/plain": [
       "SVC(class_weight='balanced', degree=2, kernel='poly', max_iter=800,\n",
       "    probability=True, random_state=133)"
      ]
     },
     "execution_count": 10,
     "metadata": {},
     "output_type": "execute_result"
    }
   ],
   "source": [
    "# Model fit:\n",
    "\n",
    "# Modifications on kernel (poly instead of linear), iterations limit, and class weights\n",
    "\n",
    "vector = svm.SVC(kernel='poly', degree=2, max_iter=800, class_weight=\"balanced\", probability=True, random_state=133)\n",
    "\n",
    "vector.fit(X_train_svm, y_train_svm)\n"
   ]
  },
  {
   "cell_type": "code",
   "execution_count": 11,
   "id": "071d8647",
   "metadata": {
    "ExecuteTime": {
     "end_time": "2021-07-14T09:29:13.075403Z",
     "start_time": "2021-07-14T09:29:12.414693Z"
    }
   },
   "outputs": [],
   "source": [
    "# Model predictions:\n",
    "\n",
    "y_pred_svm = vector.predict(X_test_svm)"
   ]
  },
  {
   "cell_type": "code",
   "execution_count": 12,
   "id": "a1762279",
   "metadata": {
    "ExecuteTime": {
     "end_time": "2021-07-14T09:29:13.149953Z",
     "start_time": "2021-07-14T09:29:13.078254Z"
    }
   },
   "outputs": [
    {
     "name": "stdout",
     "output_type": "stream",
     "text": [
      "Accuracy: 0.02956\n",
      "Confusion matrix: [[  349     0]\n",
      " [24261   390]]\n",
      "F1: 0.031148915778123874\n",
      "AUC 0.8487115664766094\n"
     ]
    }
   ],
   "source": [
    "# Performance metrics:\n",
    "\n",
    "print(\"Accuracy:\", metrics.accuracy_score(y_test_svm, y_pred_svm))\n",
    "\n",
    "print(\"Confusion matrix:\", metrics.confusion_matrix(y_test_svm, y_pred_svm))\n",
    "\n",
    "print(\"F1:\", metrics.f1_score(y_test_svm, y_pred_svm))\n",
    "\n",
    "y_pred_prob_svm = logistic.predict_proba(X_test_svm)[:, 1]\n",
    "\n",
    "print(\"AUC\", metrics.roc_auc_score(y_test_svm, y_pred_prob_svm))"
   ]
  },
  {
   "cell_type": "code",
   "execution_count": 13,
   "id": "62f302c5",
   "metadata": {
    "ExecuteTime": {
     "end_time": "2021-07-14T09:29:13.159548Z",
     "start_time": "2021-07-14T09:29:13.154001Z"
    }
   },
   "outputs": [],
   "source": [
    "# A combination of different hyperparameters have been tuned to find the best performance, but the same constraints\n",
    "# still remain. Either the performance sees extremely high values (due to classifying all majority class instances)\n",
    "# or the classification of minority instances takes a big toll in terms of false negatives and, as a consequence,\n",
    "# performance metrics"
   ]
  },
  {
   "cell_type": "markdown",
   "id": "d06b51dd",
   "metadata": {},
   "source": [
    "_________________________________________________________________________________________________________\n",
    "#########################################################################################################\n",
    "_________________________________________________________________________________________________________"
   ]
  },
  {
   "cell_type": "code",
   "execution_count": 14,
   "id": "2db5df17",
   "metadata": {
    "ExecuteTime": {
     "end_time": "2021-07-14T09:29:16.982230Z",
     "start_time": "2021-07-14T09:29:13.164132Z"
    }
   },
   "outputs": [
    {
     "name": "stderr",
     "output_type": "stream",
     "text": [
      "/Users/pau/opt/anaconda3/lib/python3.8/site-packages/xgboost/sklearn.py:888: UserWarning: The use of label encoder in XGBClassifier is deprecated and will be removed in a future release. To remove this warning, do the following: 1) Pass option use_label_encoder=False when constructing XGBClassifier object; and 2) Encode your labels (y) as integers starting with 0, i.e. 0, 1, 2, ..., [num_class - 1].\n",
      "  warnings.warn(label_encoder_deprecation_msg, UserWarning)\n"
     ]
    },
    {
     "name": "stdout",
     "output_type": "stream",
     "text": [
      "[11:29:13] WARNING: /opt/concourse/worker/volumes/live/7a2b9f41-3287-451b-6691-43e9a6c0910f/volume/xgboost-split_1619728204606/work/src/learner.cc:1061: Starting in XGBoost 1.3.0, the default evaluation metric used with the objective 'binary:logistic' was changed from 'error' to 'logloss'. Explicitly set eval_metric if you'd like to restore the old behavior.\n"
     ]
    },
    {
     "data": {
      "text/plain": [
       "XGBClassifier(base_score=0.5, booster='gbtree', colsample_bylevel=1,\n",
       "              colsample_bynode=1, colsample_bytree=1, eta=0.25, gamma=1,\n",
       "              gpu_id=-1, importance_type='gain', interaction_constraints='',\n",
       "              learning_rate=0.25, max_delta_step=0, max_depth=8,\n",
       "              min_child_weight=1, missing=nan, monotone_constraints='()',\n",
       "              n_estimators=100, n_jobs=4, num_parallel_tree=1, random_state=9,\n",
       "              reg_alpha=0, reg_lambda=1, scale_pos_weight=1, subsample=1,\n",
       "              tree_method='exact', validate_parameters=1, verbosity=None)"
      ]
     },
     "execution_count": 14,
     "metadata": {},
     "output_type": "execute_result"
    }
   ],
   "source": [
    "# Resampling\n",
    "\n",
    "X_train_xgb, X_test_xgb, y_train_xgb, y_test_xgb = train_test_split(X, y, train_size=75000, test_size=25000, \n",
    "                                                                random_state = 400, stratify= scaled_df[\"is_delay\"])\n",
    "\n",
    "# XGradient Boost:\n",
    "\n",
    "# Adjusting now for ETA, gamma and max depth\n",
    "\n",
    "xclassif = xgb.XGBClassifier(eta=0.25, gamma = 1, max_depth = 8, random_state=9)\n",
    "\n",
    "# Fit the model\n",
    "\n",
    "xclassif.fit(X_train_xgb, y_train_xgb)\n",
    "\n"
   ]
  },
  {
   "cell_type": "code",
   "execution_count": 15,
   "id": "9aacaa47",
   "metadata": {
    "ExecuteTime": {
     "end_time": "2021-07-14T09:29:17.117409Z",
     "start_time": "2021-07-14T09:29:17.001068Z"
    }
   },
   "outputs": [],
   "source": [
    "# Model prediction\n",
    "\n",
    "y_pred_xgb = xclassif.predict(X_test_xgb)\n"
   ]
  },
  {
   "cell_type": "code",
   "execution_count": 16,
   "id": "4c386dc4",
   "metadata": {
    "ExecuteTime": {
     "end_time": "2021-07-14T09:29:17.354337Z",
     "start_time": "2021-07-14T09:29:17.139587Z"
    }
   },
   "outputs": [
    {
     "name": "stdout",
     "output_type": "stream",
     "text": [
      "0.98596\n",
      "[[    0   349]\n",
      " [    2 24649]]\n",
      "0.9929303712058651\n",
      "0.8358285679547804\n"
     ]
    }
   ],
   "source": [
    "# Printing performance scores:\n",
    "\n",
    "print(metrics.accuracy_score(y_test_xgb, y_pred_xgb))\n",
    "\n",
    "print(metrics.confusion_matrix(y_test_xgb, y_pred_xgb))\n",
    "\n",
    "print(metrics.f1_score(y_test_xgb, y_pred_xgb))\n",
    "\n",
    "y_pred_prob_xgb = xclassif.predict_proba(X_test_xgb)[:, 1] \n",
    "\n",
    "print(metrics.roc_auc_score(y_test_xgb, y_pred_prob_xgb))\n"
   ]
  },
  {
   "cell_type": "code",
   "execution_count": 17,
   "id": "01dc72ab",
   "metadata": {
    "ExecuteTime": {
     "end_time": "2021-07-14T09:29:17.373804Z",
     "start_time": "2021-07-14T09:29:17.370115Z"
    }
   },
   "outputs": [],
   "source": [
    "# Some manual hyperparameter tuning has been tried but it has not been able to predict perfectly. This might be due\n",
    "# to bad indepedent variable selection, a small amount of minority class instances, wrong model/alogrithm choice, \n",
    "# mislead hyperparameter tuning or even no relationship at all. Hopefully in the future with algorithms such as \n",
    "# GridSearch it will be easier to find the most appropriate model and characteristics"
   ]
  },
  {
   "cell_type": "code",
   "execution_count": 18,
   "id": "d3c48ee9",
   "metadata": {
    "ExecuteTime": {
     "end_time": "2021-07-14T09:29:17.391226Z",
     "start_time": "2021-07-14T09:29:17.382625Z"
    }
   },
   "outputs": [],
   "source": [
    "# So far no algorithm has been able to create a good classification model: one that has high performance metrics\n",
    "# and yet classifies correctly the minority class (ArrDelay)\n",
    "\n",
    "# In that regard, the best models that combine those extremes are logistic regressions with balanced weights and\n",
    "# changing thresholds, which is surprising given how ML argorithms are supposed to be more sophisticate and accurate"
   ]
  },
  {
   "cell_type": "markdown",
   "id": "fb0819b7",
   "metadata": {},
   "source": [
    "_________________________________________________________________________________________________________\n",
    "#########################################################################################################\n",
    "_________________________________________________________________________________________________________"
   ]
  },
  {
   "cell_type": "markdown",
   "id": "2ae6de08",
   "metadata": {},
   "source": [
    "### Exercise 4\n",
    "\n",
    "Compare their performance using the train/test approach or cross-validation."
   ]
  },
  {
   "cell_type": "code",
   "execution_count": 19,
   "id": "f74349ff",
   "metadata": {
    "ExecuteTime": {
     "end_time": "2021-07-14T09:29:17.416316Z",
     "start_time": "2021-07-14T09:29:17.400243Z"
    }
   },
   "outputs": [],
   "source": [
    "# All models have taken the train/test approximation of training and fitting"
   ]
  },
  {
   "cell_type": "code",
   "execution_count": 20,
   "id": "82d47ea6",
   "metadata": {
    "ExecuteTime": {
     "end_time": "2021-07-14T09:29:17.444887Z",
     "start_time": "2021-07-14T09:29:17.431483Z"
    }
   },
   "outputs": [],
   "source": [
    "# Due to file size concerns, this exercise continues at S13 T01 P3"
   ]
  }
 ],
 "metadata": {
  "kernelspec": {
   "display_name": "Python 3",
   "language": "python",
   "name": "python3"
  },
  "language_info": {
   "codemirror_mode": {
    "name": "ipython",
    "version": 3
   },
   "file_extension": ".py",
   "mimetype": "text/x-python",
   "name": "python",
   "nbconvert_exporter": "python",
   "pygments_lexer": "ipython3",
   "version": "3.8.8"
  },
  "varInspector": {
   "cols": {
    "lenName": 16,
    "lenType": 16,
    "lenVar": 40
   },
   "kernels_config": {
    "python": {
     "delete_cmd_postfix": "",
     "delete_cmd_prefix": "del ",
     "library": "var_list.py",
     "varRefreshCmd": "print(var_dic_list())"
    },
    "r": {
     "delete_cmd_postfix": ") ",
     "delete_cmd_prefix": "rm(",
     "library": "var_list.r",
     "varRefreshCmd": "cat(var_dic_list()) "
    }
   },
   "types_to_exclude": [
    "module",
    "function",
    "builtin_function_or_method",
    "instance",
    "_Feature"
   ],
   "window_display": false
  }
 },
 "nbformat": 4,
 "nbformat_minor": 5
}
