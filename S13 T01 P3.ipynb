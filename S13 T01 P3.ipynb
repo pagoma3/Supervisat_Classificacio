{
 "cells": [
  {
   "cell_type": "code",
   "execution_count": 1,
   "id": "dee5387a",
   "metadata": {
    "ExecuteTime": {
     "end_time": "2021-07-14T09:32:26.658690Z",
     "start_time": "2021-07-14T09:32:19.850739Z"
    }
   },
   "outputs": [],
   "source": [
    "# Import useful libraries:\n",
    "\n",
    "import pandas as pd\n",
    "import matplotlib.pyplot as plt\n",
    "import numpy as np\n",
    "\n",
    "from sklearn.model_selection import train_test_split\n",
    "from sklearn.preprocessing import MinMaxScaler\n",
    "from sklearn.linear_model import LogisticRegression\n",
    "import sklearn.metrics as metrics\n"
   ]
  },
  {
   "cell_type": "markdown",
   "id": "9851f9ae",
   "metadata": {},
   "source": [
    "Realitza algun procés d’enginyeria de variables per millorar-ne la predicció"
   ]
  },
  {
   "cell_type": "code",
   "execution_count": 2,
   "id": "b8e4ecd9",
   "metadata": {
    "ExecuteTime": {
     "end_time": "2021-07-14T09:32:26.673781Z",
     "start_time": "2021-07-14T09:32:26.664194Z"
    }
   },
   "outputs": [],
   "source": [
    "# A couple of feature engineering tools have been used in these set of Jupyter notebooks. More specifically, \n",
    "# null values imputation, feature normalisation and selection and dummy variable creation"
   ]
  },
  {
   "cell_type": "code",
   "execution_count": 3,
   "id": "074e096d",
   "metadata": {
    "ExecuteTime": {
     "end_time": "2021-07-14T09:32:39.460158Z",
     "start_time": "2021-07-14T09:32:26.684328Z"
    }
   },
   "outputs": [],
   "source": [
    "# Modify dataset as in the previous notebooks:\n",
    "\n",
    "# Open dataset:\n",
    "\n",
    "dades = pd.read_csv(\"../Sprint 11/DelayedFlights.csv\")\n",
    "\n",
    "# Feature filtering:\n",
    "\n",
    "dades.drop(columns=[\"Unnamed: 0\", \"Year\", \"FlightNum\", \"TailNum\", \"Cancelled\", \"CancellationCode\"], inplace=True)\n",
    "\n",
    "# Null values imputation:\n",
    "\n",
    "dades[\"ArrDelay\"].fillna(dades[\"DepDelay\"], inplace = True)                # Arrdelay imputation and transformation\n",
    "\n",
    "dades[\"is_delay\"] = dades[\"ArrDelay\"].apply(lambda x: 0 if x==0 else 1)\n",
    "\n",
    "dades[\"ArrTime\"].fillna(dades[\"CRSArrTime\"], inplace = True)               # ArrTime imputation\n",
    "\n",
    "delay = dades[\"CRSElapsedTime\"] + dades[\"DepDelay\"]                        # ActualElapsedTime transformation   \n",
    "\n",
    "dades[\"ActualElapsedTime\"].fillna(delay, inplace = True) \n",
    "\n",
    "dades[\"ActualElapsedTime\"].fillna(dades[\"ActualElapsedTime\"].mean(), inplace=True)   \n",
    "\n",
    "dades[\"TaxiIn\"].fillna(dades[\"TaxiIn\"].mean(), inplace=True)               # TaxiIn and TaxiOut imputation\n",
    "\n",
    "dades[\"TaxiOut\"].fillna(dades[\"TaxiOut\"].mean(), inplace=True)\n"
   ]
  },
  {
   "cell_type": "code",
   "execution_count": 4,
   "id": "391b2667",
   "metadata": {
    "ExecuteTime": {
     "end_time": "2021-07-14T09:32:39.975878Z",
     "start_time": "2021-07-14T09:32:39.463067Z"
    }
   },
   "outputs": [],
   "source": [
    "# Variables normalisation:\n",
    "\n",
    "scaler = MinMaxScaler()\n",
    "\n",
    "scaled_df = scaler.fit_transform(dades[[\"is_delay\", \"ArrTime\", \"ActualElapsedTime\", \"Distance\", \"TaxiIn\", \"TaxiOut\"]])\n",
    "\n",
    "scaled_df = pd.DataFrame(scaled_df, columns = [\"is_delay\", \"ArrTime\", \"ActualElapsedTime\", \"Distance\", \"TaxiIn\", \"TaxiOut\"])\n"
   ]
  },
  {
   "cell_type": "markdown",
   "id": "da1d864a",
   "metadata": {},
   "source": [
    "_________________________________________________________________________________________________________\n",
    "#########################################################################################################\n",
    "_________________________________________________________________________________________________________"
   ]
  },
  {
   "cell_type": "markdown",
   "id": "0e485bc6",
   "metadata": {},
   "source": [
    "No utilitzis la variable DepDelay a l’hora de fer prediccions"
   ]
  },
  {
   "cell_type": "code",
   "execution_count": 5,
   "id": "40bbc1d8",
   "metadata": {
    "ExecuteTime": {
     "end_time": "2021-07-14T09:32:39.984552Z",
     "start_time": "2021-07-14T09:32:39.979221Z"
    }
   },
   "outputs": [],
   "source": [
    "# Since DepDelay is highly correlated to ArrDelay (in some cases even the same), its exclusion is expected to\n",
    "# significantly worsen our models' performance further"
   ]
  },
  {
   "cell_type": "code",
   "execution_count": 6,
   "id": "666d31a4",
   "metadata": {
    "ExecuteTime": {
     "end_time": "2021-07-14T09:32:40.000486Z",
     "start_time": "2021-07-14T09:32:39.990386Z"
    }
   },
   "outputs": [],
   "source": [
    "# The best performing model so far will be used, logistic regression with balanced weights"
   ]
  },
  {
   "cell_type": "code",
   "execution_count": 7,
   "id": "a696de37",
   "metadata": {
    "ExecuteTime": {
     "end_time": "2021-07-14T09:32:41.640658Z",
     "start_time": "2021-07-14T09:32:40.010744Z"
    }
   },
   "outputs": [],
   "source": [
    "# Sampling\n",
    "\n",
    "y = scaled_df[\"is_delay\"]\n",
    "X = scaled_df[[\"ArrTime\", \"ActualElapsedTime\", \"Distance\", \"TaxiIn\", \"TaxiOut\"]]\n",
    "\n",
    "X_train_log, X_test_log, y_train_log, y_test_log = train_test_split(X, y, random_state = 87, stratify= scaled_df[\"is_delay\"])"
   ]
  },
  {
   "cell_type": "code",
   "execution_count": 8,
   "id": "c6c44665",
   "metadata": {
    "ExecuteTime": {
     "end_time": "2021-07-14T09:32:46.611743Z",
     "start_time": "2021-07-14T09:32:41.651746Z"
    }
   },
   "outputs": [],
   "source": [
    "# Logistic regression model fit and prediction:\n",
    "\n",
    "logistic = LogisticRegression(class_weight=\"balanced\", max_iter=600)\n",
    "\n",
    "logistic.fit(X_train_log, y_train_log)\n",
    "\n",
    "y_pred_log = logistic.predict(X_test_log)"
   ]
  },
  {
   "cell_type": "code",
   "execution_count": 9,
   "id": "8ce1f684",
   "metadata": {
    "ExecuteTime": {
     "end_time": "2021-07-14T09:32:47.793728Z",
     "start_time": "2021-07-14T09:32:46.615730Z"
    }
   },
   "outputs": [
    {
     "name": "stdout",
     "output_type": "stream",
     "text": [
      "0.5506123629153844\n",
      "[[  4839   1921]\n",
      " [215668 261762]]\n",
      "0.706402397475149\n",
      "0.6761823924248259\n"
     ]
    }
   ],
   "source": [
    "# Calculating performance scores: accuracy score, confusion matrix, F1 score and AUC score\n",
    "\n",
    "print(metrics.accuracy_score(y_test_log, y_pred_log))\n",
    "\n",
    "print(metrics.confusion_matrix(y_test_log, y_pred_log))\n",
    "\n",
    "print(metrics.f1_score(y_test_log, y_pred_log))\n",
    "\n",
    "y_pred_prob_log = logistic.predict_proba(X_test_log)[:, 1]\n",
    "\n",
    "print(metrics.roc_auc_score(y_test_log, y_pred_prob_log))\n"
   ]
  },
  {
   "cell_type": "code",
   "execution_count": 10,
   "id": "fd5f83b7",
   "metadata": {
    "ExecuteTime": {
     "end_time": "2021-07-14T09:32:47.812803Z",
     "start_time": "2021-07-14T09:32:47.798543Z"
    }
   },
   "outputs": [],
   "source": [
    "# After trial and error, this is the model that provides the most balanced insight into the data we are trying to \n",
    "# predict. It predicts most of the minority class instances, which comes at the cost of mislabeling many majority\n",
    "# class instances and very poor performance metrics.\n",
    "\n",
    "# In a real case scenario, besides further studying more appropriate models, the classification threshold would\n",
    "# have real business implications and it would remain a contextual decision to make."
   ]
  }
 ],
 "metadata": {
  "kernelspec": {
   "display_name": "Python 3",
   "language": "python",
   "name": "python3"
  },
  "language_info": {
   "codemirror_mode": {
    "name": "ipython",
    "version": 3
   },
   "file_extension": ".py",
   "mimetype": "text/x-python",
   "name": "python",
   "nbconvert_exporter": "python",
   "pygments_lexer": "ipython3",
   "version": "3.8.8"
  },
  "varInspector": {
   "cols": {
    "lenName": 16,
    "lenType": 16,
    "lenVar": 40
   },
   "kernels_config": {
    "python": {
     "delete_cmd_postfix": "",
     "delete_cmd_prefix": "del ",
     "library": "var_list.py",
     "varRefreshCmd": "print(var_dic_list())"
    },
    "r": {
     "delete_cmd_postfix": ") ",
     "delete_cmd_prefix": "rm(",
     "library": "var_list.r",
     "varRefreshCmd": "cat(var_dic_list()) "
    }
   },
   "types_to_exclude": [
    "module",
    "function",
    "builtin_function_or_method",
    "instance",
    "_Feature"
   ],
   "window_display": false
  }
 },
 "nbformat": 4,
 "nbformat_minor": 5
}
