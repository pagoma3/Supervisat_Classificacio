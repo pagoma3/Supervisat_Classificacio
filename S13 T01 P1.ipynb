{
 "cells": [
  {
   "cell_type": "markdown",
   "id": "5e3b4d1e",
   "metadata": {},
   "source": [
    "# Sprint 13, Task 1\n",
    "\n",
    "## Level 1\n",
    "\n",
    "### Exercise 1\n",
    "\n",
    "Create at least three different classification models to try to predict as best as possible flight delay (ArrDelay) from the DelayedFlights.csv dataset. Consider whether the flight was late or not (ArrDelay > 0)."
   ]
  },
  {
   "cell_type": "code",
   "execution_count": 1,
   "id": "2b8e45a3",
   "metadata": {
    "ExecuteTime": {
     "end_time": "2021-07-14T09:33:12.147535Z",
     "start_time": "2021-07-14T09:33:08.520090Z"
    }
   },
   "outputs": [],
   "source": [
    "import pandas as pd\n",
    "import matplotlib.pyplot as plt\n",
    "import numpy as np\n",
    "from sklearn.model_selection import train_test_split\n",
    "import sklearn.metrics as metrics"
   ]
  },
  {
   "cell_type": "code",
   "execution_count": 2,
   "id": "ecb8e4c9",
   "metadata": {
    "ExecuteTime": {
     "end_time": "2021-07-14T09:33:19.237624Z",
     "start_time": "2021-07-14T09:33:12.150914Z"
    }
   },
   "outputs": [],
   "source": [
    "dades = pd.read_csv(\"../Sprint 11/DelayedFlights.csv\")"
   ]
  },
  {
   "cell_type": "code",
   "execution_count": 3,
   "id": "e01cb11e",
   "metadata": {
    "ExecuteTime": {
     "end_time": "2021-07-14T09:33:19.331984Z",
     "start_time": "2021-07-14T09:33:19.244654Z"
    }
   },
   "outputs": [
    {
     "name": "stdout",
     "output_type": "stream",
     "text": [
      "1936758\n",
      "27040\n"
     ]
    }
   ],
   "source": [
    "print(len(dades[\"ArrDelay\"]))\n",
    "print(dades[\"ArrDelay\"].value_counts()[0])\n",
    "\n",
    "# Only 27k cases saw no Arrival Delay over a total of 2M, which makes sense since this is a Delay Dataset\n",
    "\n",
    "####################################################################################################\n",
    "#------------------------------------ IMPORTANT ---------------------------------------------------#\n",
    "####################################################################################################\n",
    "\n",
    "# This constitutes an important limitation since all 27k cases must have seen a Departure Delay to have been \n",
    "# included in this dataset. As a consequence, our predictions will most likely not be the most accurate since our\n",
    "# pool of negative cases (no delay) is already severely biased (they suffered delay on departure)"
   ]
  },
  {
   "cell_type": "code",
   "execution_count": 4,
   "id": "b83d8a48",
   "metadata": {
    "ExecuteTime": {
     "end_time": "2021-07-14T09:33:19.859842Z",
     "start_time": "2021-07-14T09:33:19.344844Z"
    }
   },
   "outputs": [],
   "source": [
    "# Drop columns with little explanation potential\n",
    "\n",
    "dades.drop(columns=[\"Unnamed: 0\", \"Year\", \"FlightNum\", \"TailNum\", \"Cancelled\", \"CancellationCode\"], inplace=True)"
   ]
  },
  {
   "cell_type": "code",
   "execution_count": 5,
   "id": "2b0049e9",
   "metadata": {
    "ExecuteTime": {
     "end_time": "2021-07-14T09:33:19.924889Z",
     "start_time": "2021-07-14T09:33:19.864997Z"
    }
   },
   "outputs": [],
   "source": [
    "# Fill NaN entries with information from Departure Delay\n",
    "\n",
    "dades[\"ArrDelay\"].fillna(dades[\"DepDelay\"], inplace = True)\n",
    "\n",
    "delay = dades[\"CRSElapsedTime\"] + dades[\"DepDelay\"]\n",
    "\n",
    "dades[\"ActualElapsedTime\"].fillna(delay, inplace = True)"
   ]
  },
  {
   "cell_type": "code",
   "execution_count": 6,
   "id": "5666fc23",
   "metadata": {
    "ExecuteTime": {
     "end_time": "2021-07-14T09:33:19.959248Z",
     "start_time": "2021-07-14T09:33:19.927434Z"
    }
   },
   "outputs": [],
   "source": [
    "# Fill taxiing NaN values with mean value\n",
    "\n",
    "dades[\"TaxiIn\"].fillna(dades[\"TaxiIn\"].mean(), inplace=True)\n",
    "\n",
    "dades[\"TaxiOut\"].fillna(dades[\"TaxiOut\"].mean(), inplace=True)\n"
   ]
  },
  {
   "cell_type": "code",
   "execution_count": 7,
   "id": "33041164",
   "metadata": {
    "ExecuteTime": {
     "end_time": "2021-07-14T09:33:20.341582Z",
     "start_time": "2021-07-14T09:33:19.965429Z"
    }
   },
   "outputs": [
    {
     "data": {
      "text/plain": [
       "Month                     0\n",
       "DayofMonth                0\n",
       "DayOfWeek                 0\n",
       "DepTime                   0\n",
       "CRSDepTime                0\n",
       "ArrTime                7110\n",
       "CRSArrTime                0\n",
       "UniqueCarrier             0\n",
       "ActualElapsedTime       198\n",
       "CRSElapsedTime          198\n",
       "AirTime                8387\n",
       "ArrDelay                  0\n",
       "DepDelay                  0\n",
       "Origin                    0\n",
       "Dest                      0\n",
       "Distance                  0\n",
       "TaxiIn                    0\n",
       "TaxiOut                   0\n",
       "Diverted                  0\n",
       "CarrierDelay         689270\n",
       "WeatherDelay         689270\n",
       "NASDelay             689270\n",
       "SecurityDelay        689270\n",
       "LateAircraftDelay    689270\n",
       "dtype: int64"
      ]
     },
     "execution_count": 7,
     "metadata": {},
     "output_type": "execute_result"
    }
   ],
   "source": [
    "# Now no Arrival Delay sees NaN values, since we have imputed null values with their corresponding entry of \n",
    "# Departure Delay\n",
    "\n",
    "dades.isnull().sum()"
   ]
  },
  {
   "cell_type": "code",
   "execution_count": 8,
   "id": "26ed5003",
   "metadata": {
    "ExecuteTime": {
     "end_time": "2021-07-14T09:33:21.185435Z",
     "start_time": "2021-07-14T09:33:20.346987Z"
    }
   },
   "outputs": [
    {
     "name": "stdout",
     "output_type": "stream",
     "text": [
      "0.013961475827129668\n",
      "0.9860385241728703\n"
     ]
    }
   ],
   "source": [
    "# Then, we transform Arrival Delay into a 0/1 variable\n",
    "\n",
    "dades[\"is_delay\"] = dades[\"ArrDelay\"].apply(lambda x: 0 if x==0 else 1)\n",
    "\n",
    "print(dades[\"is_delay\"].value_counts()[0] / len(dades[\"is_delay\"]))\n",
    "print(dades[\"is_delay\"].value_counts()[1] / len(dades[\"is_delay\"]))\n",
    "\n",
    "# These are the Delay proportions; 98,6% of cases saw delay, 1,4% did not. That means our model has to be better \n",
    "# than 98,6% to be any good"
   ]
  },
  {
   "cell_type": "code",
   "execution_count": 9,
   "id": "4c210e36",
   "metadata": {
    "ExecuteTime": {
     "end_time": "2021-07-14T09:33:21.670850Z",
     "start_time": "2021-07-14T09:33:21.193507Z"
    }
   },
   "outputs": [],
   "source": [
    "# Rescale potentially good variables into a 0-1 scale: MinMaxScaler\n",
    "\n",
    "from sklearn.preprocessing import MinMaxScaler\n",
    "\n",
    "scaler = MinMaxScaler()\n",
    "\n",
    "scaled_df = scaler.fit_transform(dades[[\"is_delay\", \"DepDelay\", \"Distance\", \"TaxiIn\", \"TaxiOut\"]])\n"
   ]
  },
  {
   "cell_type": "code",
   "execution_count": 10,
   "id": "356f9d66",
   "metadata": {
    "ExecuteTime": {
     "end_time": "2021-07-14T09:33:21.694835Z",
     "start_time": "2021-07-14T09:33:21.681589Z"
    }
   },
   "outputs": [],
   "source": [
    "scaled_df = pd.DataFrame(scaled_df, columns = [\"is_delay\", \"DepDelay\", \"Distance\", \"TaxiIn\", \"TaxiOut\"])"
   ]
  },
  {
   "cell_type": "markdown",
   "id": "f7ad556f",
   "metadata": {},
   "source": [
    "_________________________________________________________________________________________________________\n",
    "#########################################################################################################\n",
    "_________________________________________________________________________________________________________"
   ]
  },
  {
   "cell_type": "code",
   "execution_count": 11,
   "id": "eec17d60",
   "metadata": {
    "ExecuteTime": {
     "end_time": "2021-07-14T09:33:23.209169Z",
     "start_time": "2021-07-14T09:33:21.702232Z"
    }
   },
   "outputs": [],
   "source": [
    "# First model: Logistic Regression\n",
    "\n",
    "y = scaled_df[\"is_delay\"]\n",
    "X = scaled_df[[\"DepDelay\", \"Distance\", \"TaxiIn\", \"TaxiOut\"]]\n",
    "\n",
    "X_train_log, X_test_log, y_train_log, y_test_log = train_test_split(X, y, random_state = 11, stratify= scaled_df[\"is_delay\"])\n",
    "\n",
    "# We stratify according to flight delay to mantain stable proportions\n"
   ]
  },
  {
   "cell_type": "code",
   "execution_count": 12,
   "id": "eb37aa4a",
   "metadata": {
    "ExecuteTime": {
     "end_time": "2021-07-14T09:33:29.106921Z",
     "start_time": "2021-07-14T09:33:23.213069Z"
    }
   },
   "outputs": [],
   "source": [
    "# We fit and predict the model\n",
    "\n",
    "from sklearn.linear_model import LogisticRegression\n",
    "\n",
    "logistic = LogisticRegression()\n",
    "\n",
    "logistic.fit(X_train_log, y_train_log)\n",
    "\n",
    "y_pred_log = logistic.predict(X_test_log)"
   ]
  },
  {
   "cell_type": "code",
   "execution_count": 13,
   "id": "ad2a52ca",
   "metadata": {
    "ExecuteTime": {
     "end_time": "2021-07-14T09:33:29.240403Z",
     "start_time": "2021-07-14T09:33:29.108879Z"
    }
   },
   "outputs": [
    {
     "data": {
      "text/plain": [
       "0.9860385385902228"
      ]
     },
     "execution_count": 13,
     "metadata": {},
     "output_type": "execute_result"
    }
   ],
   "source": [
    "# Accuracy Score\n",
    "\n",
    "metrics.accuracy_score(y_test_log, y_pred_log)\n",
    "\n",
    "# In principle, a very good score; however, it coincides extremely closely with the proportion of Delay cases in the\n",
    "# dataset overall (no model), which should make us weary"
   ]
  },
  {
   "cell_type": "code",
   "execution_count": 14,
   "id": "99eee140",
   "metadata": {
    "ExecuteTime": {
     "end_time": "2021-07-14T09:33:29.754974Z",
     "start_time": "2021-07-14T09:33:29.247021Z"
    }
   },
   "outputs": [
    {
     "data": {
      "text/plain": [
       "array([[     0,   6760],\n",
       "       [     0, 477430]])"
      ]
     },
     "execution_count": 14,
     "metadata": {},
     "output_type": "execute_result"
    }
   ],
   "source": [
    "# Confusion Matrix\n",
    "\n",
    "metrics.confusion_matrix(y_test_log, y_pred_log)\n",
    "\n",
    "# As it can be seen, this is a terrible model in terms of predicting Arrival Delay entries. Not a sinlge one of\n",
    "# them was predicted by the model, and yet accuracy was excellent"
   ]
  },
  {
   "cell_type": "code",
   "execution_count": 15,
   "id": "ba6cd692",
   "metadata": {
    "ExecuteTime": {
     "end_time": "2021-07-14T09:33:30.150575Z",
     "start_time": "2021-07-14T09:33:29.758498Z"
    }
   },
   "outputs": [
    {
     "data": {
      "text/plain": [
       "0.9929701961273684"
      ]
     },
     "execution_count": 15,
     "metadata": {},
     "output_type": "execute_result"
    }
   ],
   "source": [
    "# F1 Score\n",
    "\n",
    "metrics.f1_score(y_test_log, y_pred_log)\n",
    "\n",
    "# Very good F1 score, better than the dummy model"
   ]
  },
  {
   "cell_type": "code",
   "execution_count": 16,
   "id": "aec02cb1",
   "metadata": {
    "ExecuteTime": {
     "end_time": "2021-07-14T09:33:30.882548Z",
     "start_time": "2021-07-14T09:33:30.155083Z"
    }
   },
   "outputs": [
    {
     "data": {
      "text/plain": [
       "0.8221003917114402"
      ]
     },
     "execution_count": 16,
     "metadata": {},
     "output_type": "execute_result"
    }
   ],
   "source": [
    "# AUC score\n",
    "\n",
    "y_pred_prob_log = logistic.predict_proba(X_test_log)[:, 1] \n",
    "\n",
    "    # This gets our probability coefficients that each instance is a Delay\n",
    "\n",
    "metrics.roc_auc_score(y_test_log, y_pred_prob_log)\n",
    "\n",
    "# This score shows a relatively good model, but it is not better than a dummy model"
   ]
  },
  {
   "cell_type": "code",
   "execution_count": 17,
   "id": "81efc613",
   "metadata": {
    "ExecuteTime": {
     "end_time": "2021-07-14T09:33:30.895414Z",
     "start_time": "2021-07-14T09:33:30.889637Z"
    }
   },
   "outputs": [],
   "source": [
    "# All in all, a simple logistic regression would not be the best model to predict Arrival Delay, since it predicts\n",
    "# all the majority class instances yet not the minority class. Further hyperparameter tuning will be needed"
   ]
  },
  {
   "cell_type": "markdown",
   "id": "9315c1d0",
   "metadata": {},
   "source": [
    "_________________________________________________________________________________________________________\n",
    "#########################################################################################################\n",
    "_________________________________________________________________________________________________________"
   ]
  },
  {
   "cell_type": "code",
   "execution_count": 18,
   "id": "73e2c7f6",
   "metadata": {
    "ExecuteTime": {
     "end_time": "2021-07-14T09:33:31.650685Z",
     "start_time": "2021-07-14T09:33:30.900917Z"
    }
   },
   "outputs": [],
   "source": [
    "# Resampling, this time reducing sampling size to make ML model prediction faster \n",
    "\n",
    "X_train_svm, X_test_svm, y_train_svm, y_test_svm = train_test_split(X, y, train_size=75000, test_size=25000, random_state = 13, stratify= scaled_df[\"is_delay\"])\n"
   ]
  },
  {
   "cell_type": "code",
   "execution_count": 19,
   "id": "2e80b5e9",
   "metadata": {
    "ExecuteTime": {
     "end_time": "2021-07-14T09:34:46.484335Z",
     "start_time": "2021-07-14T09:33:31.659691Z"
    }
   },
   "outputs": [
    {
     "data": {
      "text/plain": [
       "SVC(kernel='linear', probability=True)"
      ]
     },
     "execution_count": 19,
     "metadata": {},
     "output_type": "execute_result"
    }
   ],
   "source": [
    "# Suport Vector Machine:\n",
    "\n",
    "from sklearn import svm\n",
    "\n",
    "vector = svm.SVC(kernel='linear', probability=True)\n",
    "\n",
    "# Model fit:\n",
    "\n",
    "vector.fit(X_train_svm, y_train_svm)\n",
    "\n",
    "# Model Execution time: 1m 10s"
   ]
  },
  {
   "cell_type": "code",
   "execution_count": 20,
   "id": "1e09fafb",
   "metadata": {
    "ExecuteTime": {
     "end_time": "2021-07-14T09:34:48.311972Z",
     "start_time": "2021-07-14T09:34:46.489384Z"
    }
   },
   "outputs": [],
   "source": [
    "# Model prediction\n",
    "\n",
    "y_pred_svm = vector.predict(X_test_svm)"
   ]
  },
  {
   "cell_type": "code",
   "execution_count": 21,
   "id": "4477c354",
   "metadata": {
    "ExecuteTime": {
     "end_time": "2021-07-14T09:34:48.328575Z",
     "start_time": "2021-07-14T09:34:48.315099Z"
    }
   },
   "outputs": [
    {
     "data": {
      "text/plain": [
       "0.98604"
      ]
     },
     "execution_count": 21,
     "metadata": {},
     "output_type": "execute_result"
    }
   ],
   "source": [
    "# Accuracy Score\n",
    "\n",
    "metrics.accuracy_score(y_test_svm, y_pred_svm)\n",
    "\n",
    "# Like the logistic model, it coincides quite closely with the majority class; suspicious"
   ]
  },
  {
   "cell_type": "code",
   "execution_count": 22,
   "id": "e2c6fbbd",
   "metadata": {
    "ExecuteTime": {
     "end_time": "2021-07-14T09:34:48.366627Z",
     "start_time": "2021-07-14T09:34:48.332209Z"
    }
   },
   "outputs": [
    {
     "data": {
      "text/plain": [
       "array([[    0,   349],\n",
       "       [    0, 24651]])"
      ]
     },
     "execution_count": 22,
     "metadata": {},
     "output_type": "execute_result"
    }
   ],
   "source": [
    "# Confusion Matrix\n",
    "\n",
    "metrics.confusion_matrix(y_test_svm, y_pred_svm)\n",
    "\n",
    "# Once again, the model is very bad at predicting the minority instances, which happen to be what we care about"
   ]
  },
  {
   "cell_type": "code",
   "execution_count": 23,
   "id": "2863dc56",
   "metadata": {
    "ExecuteTime": {
     "end_time": "2021-07-14T09:34:48.399879Z",
     "start_time": "2021-07-14T09:34:48.371516Z"
    }
   },
   "outputs": [
    {
     "data": {
      "text/plain": [
       "0.992970937141246"
      ]
     },
     "execution_count": 23,
     "metadata": {},
     "output_type": "execute_result"
    }
   ],
   "source": [
    "# F1 score:\n",
    "\n",
    "metrics.f1_score(y_test_svm, y_pred_svm)\n",
    "\n",
    "# Almost perfect F1 score, yet other metrics show its bias"
   ]
  },
  {
   "cell_type": "code",
   "execution_count": 24,
   "id": "20c0571c",
   "metadata": {
    "ExecuteTime": {
     "end_time": "2021-07-14T09:34:50.265746Z",
     "start_time": "2021-07-14T09:34:48.403331Z"
    }
   },
   "outputs": [
    {
     "data": {
      "text/plain": [
       "0.7844702883194961"
      ]
     },
     "execution_count": 24,
     "metadata": {},
     "output_type": "execute_result"
    }
   ],
   "source": [
    "# AUC score:\n",
    "\n",
    "y_pred_prob_svm = vector.predict_proba(X_test_svm)[:, 1] \n",
    "\n",
    "metrics.roc_auc_score(y_test_svm, y_pred_prob_svm)\n",
    "\n",
    "# Quite bad AUC score, given how below the proportion of the majority class it is"
   ]
  },
  {
   "cell_type": "markdown",
   "id": "6bc6e99f",
   "metadata": {},
   "source": [
    "_________________________________________________________________________________________________________\n",
    "#########################################################################################################\n",
    "_________________________________________________________________________________________________________"
   ]
  },
  {
   "cell_type": "code",
   "execution_count": 25,
   "id": "4757846d",
   "metadata": {
    "ExecuteTime": {
     "end_time": "2021-07-14T09:36:49.842247Z",
     "start_time": "2021-07-14T09:34:50.270653Z"
    }
   },
   "outputs": [
    {
     "name": "stderr",
     "output_type": "stream",
     "text": [
      "/Users/pau/opt/anaconda3/lib/python3.8/site-packages/xgboost/sklearn.py:888: UserWarning: The use of label encoder in XGBClassifier is deprecated and will be removed in a future release. To remove this warning, do the following: 1) Pass option use_label_encoder=False when constructing XGBClassifier object; and 2) Encode your labels (y) as integers starting with 0, i.e. 0, 1, 2, ..., [num_class - 1].\n",
      "  warnings.warn(label_encoder_deprecation_msg, UserWarning)\n"
     ]
    },
    {
     "name": "stdout",
     "output_type": "stream",
     "text": [
      "[11:34:53] WARNING: /opt/concourse/worker/volumes/live/7a2b9f41-3287-451b-6691-43e9a6c0910f/volume/xgboost-split_1619728204606/work/src/learner.cc:1061: Starting in XGBoost 1.3.0, the default evaluation metric used with the objective 'binary:logistic' was changed from 'error' to 'logloss'. Explicitly set eval_metric if you'd like to restore the old behavior.\n"
     ]
    },
    {
     "data": {
      "text/plain": [
       "XGBClassifier(base_score=0.5, booster='gbtree', colsample_bylevel=1,\n",
       "              colsample_bynode=1, colsample_bytree=1, gamma=0, gpu_id=-1,\n",
       "              importance_type='gain', interaction_constraints='',\n",
       "              learning_rate=0.300000012, max_delta_step=0, max_depth=6,\n",
       "              min_child_weight=1, missing=nan, monotone_constraints='()',\n",
       "              n_estimators=100, n_jobs=4, num_parallel_tree=1, random_state=3,\n",
       "              reg_alpha=0, reg_lambda=1, scale_pos_weight=1, subsample=1,\n",
       "              tree_method='exact', validate_parameters=1, verbosity=None)"
      ]
     },
     "execution_count": 25,
     "metadata": {},
     "output_type": "execute_result"
    }
   ],
   "source": [
    "# XGBoost\n",
    "\n",
    "import xgboost as xgb\n",
    "\n",
    "X_train_xgb, X_test_xgb, y_train_xgb, y_test_xgb = train_test_split(X, y, random_state = 55, stratify= scaled_df[\"is_delay\"])\n",
    "\n",
    "xclassif = xgb.XGBClassifier(random_state=3)\n",
    "\n",
    "# Fit the model\n",
    "\n",
    "xclassif.fit(X_train_xgb, y_train_xgb)\n",
    "\n",
    "# Execution time: 1m 45s"
   ]
  },
  {
   "cell_type": "code",
   "execution_count": 26,
   "id": "528f89ed",
   "metadata": {
    "ExecuteTime": {
     "end_time": "2021-07-14T09:36:50.763427Z",
     "start_time": "2021-07-14T09:36:49.846459Z"
    }
   },
   "outputs": [],
   "source": [
    "# Predict with the fitted model:\n",
    "\n",
    "y_pred_xgb = xclassif.predict(X_test_xgb)"
   ]
  },
  {
   "cell_type": "code",
   "execution_count": 27,
   "id": "8cff9baa",
   "metadata": {
    "ExecuteTime": {
     "end_time": "2021-07-14T09:36:50.959652Z",
     "start_time": "2021-07-14T09:36:50.802501Z"
    }
   },
   "outputs": [
    {
     "data": {
      "text/plain": [
       "0.9860385385902228"
      ]
     },
     "execution_count": 27,
     "metadata": {},
     "output_type": "execute_result"
    }
   ],
   "source": [
    "# Accuracy Score\n",
    "\n",
    "metrics.accuracy_score(y_test_xgb, y_pred_xgb)\n",
    "\n",
    "# Same as previous models"
   ]
  },
  {
   "cell_type": "code",
   "execution_count": 28,
   "id": "1dcdf3d4",
   "metadata": {
    "ExecuteTime": {
     "end_time": "2021-07-14T09:36:51.640245Z",
     "start_time": "2021-07-14T09:36:50.978393Z"
    }
   },
   "outputs": [
    {
     "data": {
      "text/plain": [
       "array([[     0,   6760],\n",
       "       [     0, 477430]])"
      ]
     },
     "execution_count": 28,
     "metadata": {},
     "output_type": "execute_result"
    }
   ],
   "source": [
    "# Confusion Matrix\n",
    "\n",
    "metrics.confusion_matrix(y_test_xgb, y_pred_xgb)\n",
    "\n",
    "# Same as previous models"
   ]
  },
  {
   "cell_type": "code",
   "execution_count": 29,
   "id": "039b0e25",
   "metadata": {
    "ExecuteTime": {
     "end_time": "2021-07-14T09:36:52.170771Z",
     "start_time": "2021-07-14T09:36:51.644278Z"
    }
   },
   "outputs": [
    {
     "data": {
      "text/plain": [
       "0.9929701961273684"
      ]
     },
     "execution_count": 29,
     "metadata": {},
     "output_type": "execute_result"
    }
   ],
   "source": [
    "# F1 score:\n",
    "\n",
    "metrics.f1_score(y_test_xgb, y_pred_xgb)\n",
    "\n",
    "# Same as previous models"
   ]
  },
  {
   "cell_type": "code",
   "execution_count": 30,
   "id": "1ded15dc",
   "metadata": {
    "ExecuteTime": {
     "end_time": "2021-07-14T09:36:53.434236Z",
     "start_time": "2021-07-14T09:36:52.177843Z"
    }
   },
   "outputs": [
    {
     "data": {
      "text/plain": [
       "0.852250652749119"
      ]
     },
     "execution_count": 30,
     "metadata": {},
     "output_type": "execute_result"
    }
   ],
   "source": [
    "# AUC score:\n",
    "\n",
    "y_pred_prob_xgb = xclassif.predict_proba(X_test_xgb)[:, 1] \n",
    "\n",
    "metrics.roc_auc_score(y_test_xgb, y_pred_prob_xgb)\n",
    "\n",
    "# Same as previous models"
   ]
  },
  {
   "cell_type": "markdown",
   "id": "6b1ac373",
   "metadata": {},
   "source": [
    "_________________________________________________________________________________________________________\n",
    "#########################################################################################################\n",
    "_________________________________________________________________________________________________________"
   ]
  },
  {
   "cell_type": "markdown",
   "id": "13835bc9",
   "metadata": {},
   "source": [
    "### Exercise 2\n",
    "\n",
    "Compare the previous classification models using accuracy, a confidence matrix and other more advanced techniques."
   ]
  },
  {
   "cell_type": "code",
   "execution_count": 31,
   "id": "08947be8",
   "metadata": {
    "ExecuteTime": {
     "end_time": "2021-07-14T09:36:53.449748Z",
     "start_time": "2021-07-14T09:36:53.443436Z"
    }
   },
   "outputs": [],
   "source": [
    "# Dummy baseline reminder (proportion of majority class in original dataset): 0.986"
   ]
  },
  {
   "cell_type": "code",
   "execution_count": 32,
   "id": "9059a202",
   "metadata": {
    "ExecuteTime": {
     "end_time": "2021-07-14T09:36:53.462241Z",
     "start_time": "2021-07-14T09:36:53.455065Z"
    }
   },
   "outputs": [],
   "source": [
    "# Logistic Regression:\n",
    "\n",
    "    # Accuracy Score: 0.986\n",
    "    # Confusion Matrix: 0 correct predictions of minority class\n",
    "    # F1 Score: 0.993\n",
    "    # AUC Score: 0.822"
   ]
  },
  {
   "cell_type": "code",
   "execution_count": 33,
   "id": "c5d48661",
   "metadata": {
    "ExecuteTime": {
     "end_time": "2021-07-14T09:36:53.485825Z",
     "start_time": "2021-07-14T09:36:53.466592Z"
    }
   },
   "outputs": [],
   "source": [
    "# Support Vector Machine:\n",
    "\n",
    "    # Accuracy Score: 0.986\n",
    "    # Confusion Matrix: 0 correct predictions of minority class\n",
    "    # F1 Score: 0.993\n",
    "    # AUC Score: 0.784"
   ]
  },
  {
   "cell_type": "code",
   "execution_count": 34,
   "id": "ded275c0",
   "metadata": {
    "ExecuteTime": {
     "end_time": "2021-07-14T09:36:53.499359Z",
     "start_time": "2021-07-14T09:36:53.493124Z"
    }
   },
   "outputs": [],
   "source": [
    "# X Gradient Boost:\n",
    "\n",
    "    # Accuracy Score: 0.986\n",
    "    # Confusion Matrix: 0 correct predictions of minority class\n",
    "    # F1 Score: 0.993\n",
    "    # AUC Score: 0.852"
   ]
  },
  {
   "cell_type": "code",
   "execution_count": 35,
   "id": "3b91a06c",
   "metadata": {
    "ExecuteTime": {
     "end_time": "2021-07-14T09:36:53.511432Z",
     "start_time": "2021-07-14T09:36:53.503015Z"
    }
   },
   "outputs": [],
   "source": [
    "################################ CONCLUSIONS ################################################################\n",
    "\n",
    "# By taking the accuracy scores, one might think that the models used are quite good. However, that could not\n",
    "# be further from the truth. The raw models (no hyperparameter tuning) have proven to be quite bad at predicting\n",
    "# our target variable (Arrival Delay). Hence, the extremely high precision scores are due to the models predicting\n",
    "# the majority class by default. That is not what a classification model is expected to do.\n",
    "\n",
    "# Hence, the notebook S13 T01 P2 will try to improve perfomance through hyperparameter tuning "
   ]
  }
 ],
 "metadata": {
  "kernelspec": {
   "display_name": "Python 3",
   "language": "python",
   "name": "python3"
  },
  "language_info": {
   "codemirror_mode": {
    "name": "ipython",
    "version": 3
   },
   "file_extension": ".py",
   "mimetype": "text/x-python",
   "name": "python",
   "nbconvert_exporter": "python",
   "pygments_lexer": "ipython3",
   "version": "3.8.8"
  },
  "varInspector": {
   "cols": {
    "lenName": 16,
    "lenType": 16,
    "lenVar": 40
   },
   "kernels_config": {
    "python": {
     "delete_cmd_postfix": "",
     "delete_cmd_prefix": "del ",
     "library": "var_list.py",
     "varRefreshCmd": "print(var_dic_list())"
    },
    "r": {
     "delete_cmd_postfix": ") ",
     "delete_cmd_prefix": "rm(",
     "library": "var_list.r",
     "varRefreshCmd": "cat(var_dic_list()) "
    }
   },
   "types_to_exclude": [
    "module",
    "function",
    "builtin_function_or_method",
    "instance",
    "_Feature"
   ],
   "window_display": false
  }
 },
 "nbformat": 4,
 "nbformat_minor": 5
}
